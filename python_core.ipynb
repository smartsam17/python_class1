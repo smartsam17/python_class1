{
 "cells": [
  {
   "cell_type": "markdown",
   "metadata": {},
   "source": [
    "1. We can use any text text editor.\n"
   ]
  },
  {
   "cell_type": "markdown",
   "metadata": {},
   "source": [
    "2.We need the python package to execute the the python files."
   ]
  },
  {
   "cell_type": "markdown",
   "metadata": {},
   "source": [
    "3.gedit is official python IDE.\n"
   ]
  },
  {
   "cell_type": "markdown",
   "metadata": {},
   "source": [
    "4. Instruction that a Python interpreter can excute  are called statements."
   ]
  },
  {
   "cell_type": "markdown",
   "metadata": {},
   "source": [
    "5. x = 6\n",
    "print(6)   => It will print 6 \n",
    "print(\"6\") => It will also print 6 \n"
   ]
  },
  {
   "cell_type": "markdown",
   "metadata": {},
   "source": [
    "6. x = 7\n",
    "print(x)     => It will print 7 (Because x is a variable)    \n",
    "print(\"x\")   => It will print x (Because x is in double quotes).\n"
   ]
  },
  {
   "cell_type": "markdown",
   "metadata": {},
   "source": [
    "7. In the logic we can use any undefined varible because python is loosly type language but we are printing the varible which is not defined \n",
    "than that will give a error(variable is udefined)\n"
   ]
  },
  {
   "cell_type": "markdown",
   "metadata": {},
   "source": [
    "8. x? x= 10 => There is no terniary operator concept in python. That statement will give a syntax error."
   ]
  },
  {
   "cell_type": "markdown",
   "metadata": {},
   "source": [
    "9. yes, we can change the value of a variable."
   ]
  },
  {
   "cell_type": "markdown",
   "metadata": {},
   "source": [
    "10. yes, we can assign more than one variable in a single statement i.e a, b = 10, 20"
   ]
  },
  {
   "cell_type": "markdown",
   "metadata": {},
   "source": [
    "11. If we want to use the same variable name as reserved keywords in python then we will use to append underscore(_) in that varible name i.e list_."
   ]
  },
  {
   "cell_type": "markdown",
   "metadata": {},
   "source": [
    "15. There is no way to define a constant in python But we can make as constant in a class."
   ]
  },
  {
   "cell_type": "markdown",
   "metadata": {},
   "source": [
    "16. \"i\" is a string literal."
   ]
  },
  {
   "cell_type": "markdown",
   "metadata": {},
   "source": [
    "17. '\\n' will treat as the new line while 'n' will treat as normal 'n'."
   ]
  },
  {
   "cell_type": "code",
   "execution_count": 1,
   "metadata": {},
   "outputs": [
    {
     "name": "stdout",
     "output_type": "stream",
     "text": [
      "A\n",
      "B\n",
      "A\n",
      "C\n",
      "A\n",
      "D\n",
      "E\n"
     ]
    }
   ],
   "source": [
    "print('A\\nB\\nA\\nC\\nA\\nD\\nE')"
   ]
  },
  {
   "cell_type": "code",
   "execution_count": 4,
   "metadata": {},
   "outputs": [],
   "source": [
    "import winsound\n",
    "frequency = 2500  # Set Frequency To 2500 Hertz\n",
    "duration = 1000  # Set Duration To 1000 ms == 1 second\n",
    "winsound.Beep(frequency, duration)\n"
   ]
  },
  {
   "cell_type": "markdown",
   "metadata": {},
   "source": [
    "20. Is the literal 4 a valid Python expression?: yes"
   ]
  },
  {
   "cell_type": "markdown",
   "metadata": {},
   "source": [
    "21. Is the variable x a valid Python expression? : yes"
   ]
  },
  {
   "cell_type": "markdown",
   "metadata": {},
   "source": [
    "22. Is x + 4 a valid Python expression?: yes but x should be interger."
   ]
  },
  {
   "cell_type": "markdown",
   "metadata": {},
   "source": [
    "23. What effect does the unary + operator have when applied to a numeric expression? : It will add the values "
   ]
  },
  {
   "cell_type": "markdown",
   "metadata": {},
   "source": [
    "24. Sort the following binary operators in order of high to low precedence: +, -, *, //, /, %, =. :   *, /, //, %, +, -"
   ]
  },
  {
   "cell_type": "markdown",
   "metadata": {},
   "source": [
    "25. Given the following assignment: x = 2\n",
    "Indicate what each of the following Python statements would print.\n",
    "1) print(\"x\") =>          x\n",
    "2) print('x') =>          x\n",
    "3) print(x)   =>          2\n",
    "4) print(\"x + 1\") =>      x+1\n",
    "5) print('x' + 1) =>      error\n",
    "6) print(x + 1)   =>      3 "
   ]
  },
  {
   "cell_type": "markdown",
   "metadata": {},
   "source": [
    "26. What is printed by the following statement: #print(5/3) => 1.666"
   ]
  },
  {
   "cell_type": "markdown",
   "metadata": {},
   "source": [
    "27. What symbol signifies the beginning of a comment in Python? => #"
   ]
  },
  {
   "cell_type": "markdown",
   "metadata": {},
   "source": [
    "28. How do Python comments end? => It automatically terminated by the new line."
   ]
  },
  {
   "cell_type": "markdown",
   "metadata": {},
   "source": [
    "29. Which is better, too many comments or too few comments?=> few comments"
   ]
  },
  {
   "cell_type": "markdown",
   "metadata": {},
   "source": [
    "30. Importance of Comments: In modular programming docstring or commenting is very important. if we are writing any complex logic then it would be easier \n",
    "for us or anybody else to understand the logic. In the doc string its required to give the detailing like what function does, how many parameters it accept etc.\n"
   ]
  },
  {
   "cell_type": "markdown",
   "metadata": {},
   "source": [
    "31. What circumstances can cause each of the following run-time errors to arise?\n",
    "1) NameError  => when the varible is not found in local or global scope.\n",
    "2) ValueError =>  occurs often when varible type is different to perform any operation.\n",
    "3) ZeroDivisionError => is occur when second operator is zero.\n",
    "3) IndentationError  => occur when our code is not proper indent.\n",
    "4) OverflowError => raised when result of airthmatic operation is two large to show.\n",
    "5) SyntaxError  => When syntax is not proper  \n",
    "6) TypeError => Raised when operation is performed on different types.\n",
    "Hint: Try some of the following activities in the interpreter or within a Python program:\n",
    "7) print a variable that has not been assigned\n",
    "8) convert the string 'two' to an integer\n",
    "9) add an integer to a string\n",
    "10) assign to a variable named end-point\n",
    "11) experiment adding spaces and tabs at various places in the code of an error-free Python program\n",
    "12) compute raise a floating-point number to a large power, as in 1.5^10,000\n"
   ]
  },
  {
   "cell_type": "markdown",
   "metadata": {},
   "source": [
    "32. 1) x = x + 1  => x += 1\n",
    "2) x = x / 2      => x /= 2\n",
    "3) x = x - 1      => x -= 1\n",
    "4) x = x + y      => x += y\n",
    "5) x = x - (y + 7) => x - = y+7\n",
    "6) x = 2*x         => x *= 2  \n",
    "7) number_of_closed_cases = number_of_closed_cases + 2*ncc =>  number_of_closed_cases += 2*ncc\n"
   ]
  },
  {
   "cell_type": "markdown",
   "metadata": {},
   "source": [
    "x1 = 2\n",
    "    x2 = 2\n",
    "    x1 += 1\n",
    "    x2 -= 1\n",
    "    print(x1) = 3\n",
    "    print(x2) = 1\n"
   ]
  },
  {
   "cell_type": "markdown",
   "metadata": {},
   "source": [
    "33. r = 2\n",
    "PI = 3.14159\n",
    "C = 2*PI*r    \n"
   ]
  },
  {
   "cell_type": "markdown",
   "metadata": {},
   "source": [
    "35. What possible values can a Boolean expression have? => true or false"
   ]
  },
  {
   "cell_type": "markdown",
   "metadata": {},
   "source": [
    "36. Where does the term Boolean originate? => George Boole has invented that term Boolean."
   ]
  },
  {
   "cell_type": "markdown",
   "metadata": {},
   "source": [
    "37. Which is an integer equivalent to True in Python? => >0 &<0"
   ]
  },
  {
   "cell_type": "markdown",
   "metadata": {},
   "source": [
    "38. Which is the integer equivalent to False in Python? => 0"
   ]
  },
  {
   "cell_type": "markdown",
   "metadata": {},
   "source": [
    "39. Is the value -16 interpreted as True or False? => True"
   ]
  },
  {
   "cell_type": "markdown",
   "metadata": {},
   "source": [
    "40. x,y,z = 3,5,7\n",
    "a) x == 3   => true\n",
    "b) x < y    => true\n",
    "c) x >= y   => false\n",
    "d) x <= y   => true\n",
    "e) x != y - 2   => false\n",
    "f) x < 10            => true\n",
    "g) x >= 0 and x < 10  => true\n",
    "h) x < 0 and x < 10    => false\n",
    "i) x >= 0 and x < 2    => false\n",
    "j) x < 0 or x < 10     => false\n",
    "k) x > 0 or x < 10     => true\n",
    "l) x < 0 or x > 10     => false "
   ]
  },
  {
   "cell_type": "markdown",
   "metadata": {},
   "source": [
    "41. \n",
    "a) not (x == 2)          => x != 2\n",
    "b) x < 2 or x == 2       => x <= 2\n",
    "c) not (x < y)           => x > y \n",
    "d) not (x <= y)          => x > y\n",
    "e) x < 10 and x > 20     => !x\n",
    "f) x > 10 or x < 20      => x"
   ]
  },
  {
   "cell_type": "markdown",
   "metadata": {},
   "source": [
    "42.\n",
    "a) not (x == y)  =>  x != y\n",
    "b) not (x > y)   =>  x < y\n",
    "c) not (x < y)   =>  x > y\n",
    "d) not (x >= y)  =>  x < y\n",
    "e) not (x <= y)  =>  x > y\n",
    "f) not (x != y)  =>  x == y"
   ]
  },
  {
   "cell_type": "markdown",
   "metadata": {},
   "source": [
    "43. Tautology is use of different words to say the same thing twice in same statement i.e x"
   ]
  },
  {
   "cell_type": "markdown",
   "metadata": {},
   "source": [
    "44. x and !x is simplest contradiction. "
   ]
  },
  {
   "cell_type": "code",
   "execution_count": 11,
   "metadata": {},
   "outputs": [
    {
     "name": "stdout",
     "output_type": "stream",
     "text": [
      "Please enter a integer: 2\n",
      "OK\n"
     ]
    }
   ],
   "source": [
    "inputvalue = int(input(\"Please enter a integer: \"))\n",
    "if inputvalue >= 1 and inputvalue <= 100:\n",
    "  print('OK')\n"
   ]
  },
  {
   "cell_type": "code",
   "execution_count": 12,
   "metadata": {},
   "outputs": [
    {
     "name": "stdout",
     "output_type": "stream",
     "text": [
      "Please enter a integer: 1\n",
      "OK\n"
     ]
    }
   ],
   "source": [
    "inputvalue = int(input(\"Please enter a integer: \"))\n",
    "if inputvalue >= 1 and inputvalue <= 100:\n",
    "  print('OK')\n",
    "else:\n",
    "  print('out of Range')  \n"
   ]
  },
  {
   "cell_type": "code",
   "execution_count": 14,
   "metadata": {},
   "outputs": [
    {
     "name": "stdout",
     "output_type": "stream",
     "text": [
      "Please Enter English day of week:Monday\n",
      "2\n"
     ]
    }
   ],
   "source": [
    "weekDays = {'sunday':1, \"monday\":2, \"tuesday\": 3, 'wednesday': 4, 'thrusday': 5, 'friday':6,'saturday': 7}\n",
    "InputValue = str(input('Please Enter English day of week:'))\n",
    "try:\n",
    "  print(weekDays[InputValue.lower()])\n",
    "except:\n",
    "  print(\"Please enter correct English day.\")\n"
   ]
  },
  {
   "cell_type": "markdown",
   "metadata": {},
   "source": [
    "48. Indentation Error."
   ]
  },
  {
   "cell_type": "markdown",
   "metadata": {},
   "source": [
    "49. \n",
    "a). wow 3\n",
    "b). whoa 21\n",
    "c). 6\n",
    "d). 27\n",
    "e). wow -5"
   ]
  },
  {
   "cell_type": "code",
   "execution_count": 15,
   "metadata": {},
   "outputs": [
    {
     "name": "stdout",
     "output_type": "stream",
     "text": [
      "Please enter number1: 1\n",
      "Please enter number2: 5\n",
      "Please enter number3: 7\n",
      "Please enter number4: 8\n",
      "Please enter number5: 9\n",
      "maximum is 9\n",
      "minimum no is 1\n"
     ]
    }
   ],
   "source": [
    "number1 = int(input(\"Please enter number1: \"))\n",
    "number2 = int(input(\"Please enter number2: \"))\n",
    "number3 = int(input(\"Please enter number3: \"))\n",
    "number4 = int(input(\"Please enter number4: \"))\n",
    "number5 = int(input(\"Please enter number5: \"))\n",
    "numbers = [number1, number2, number3, number4, number5]\n",
    "j=0\n",
    "maxNo=number1\n",
    "minNo=number1\n",
    "for i in numbers:\n",
    "  if j>0:\n",
    "    if i>maxNo:\n",
    "      maxNo=i\n",
    "    if i<minNo:\n",
    "      minNo=i\n",
    "  j = j+1\n",
    "print('maximum is', maxNo) \n",
    "print('minimum no is', minNo) "
   ]
  },
  {
   "cell_type": "code",
   "execution_count": 16,
   "metadata": {},
   "outputs": [
    {
     "name": "stdout",
     "output_type": "stream",
     "text": [
      "Please enter number1: 23\n",
      "Please enter number2: 1\n",
      "Please enter number3: 28\n",
      "Please enter number4: 2\n",
      "Please enter number5: 23\n",
      "[23, 1, 28, 2, 23]\n",
      "Duplicates [23]\n",
      "UniqueNos [1, 28, 2]\n"
     ]
    }
   ],
   "source": [
    "number1 = int(input(\"Please enter number1: \"))\n",
    "number2 = int(input(\"Please enter number2: \"))\n",
    "number3 = int(input(\"Please enter number3: \"))\n",
    "number4 = int(input(\"Please enter number4: \"))\n",
    "number5 = int(input(\"Please enter number5: \"))\n",
    "numbers = [number1, number2, number3, number4, number5]\n",
    "k=1\n",
    "uniqueNos = []\n",
    "duplicates = []\n",
    "print(numbers)\n",
    "for i in numbers:\n",
    "  #print(i)\n",
    "  for j in range(k,len(numbers)):\n",
    "    #print(numbers[j])\n",
    "    if i == numbers[j]:\n",
    "      uniqueFlag = 0\n",
    "      if i not in duplicates: \n",
    "        duplicates.append(i)\n",
    "      break\n",
    "    else:\n",
    "      uniqueFlag=1\n",
    "  k=k+1 \n",
    "  if uniqueFlag:\n",
    "    uniqueNos.append(i)\n",
    "\n",
    "print('Duplicates', duplicates)  \n",
    "uniques = [i for i in uniqueNos if i not in duplicates]  \n",
    "print('UniqueNos', uniques)"
   ]
  },
  {
   "cell_type": "markdown",
   "metadata": {},
   "source": [
    "52. It will print Infinite *"
   ]
  },
  {
   "cell_type": "markdown",
   "metadata": {},
   "source": [
    "53. IndentationError\n"
   ]
  },
  {
   "cell_type": "markdown",
   "metadata": {},
   "source": [
    "54. IndentationError\n"
   ]
  },
  {
   "cell_type": "markdown",
   "metadata": {},
   "source": [
    "55.IndentationError"
   ]
  },
  {
   "cell_type": "markdown",
   "metadata": {},
   "source": [
    "56. IndentationError"
   ]
  },
  {
   "cell_type": "markdown",
   "metadata": {},
   "source": [
    "65. minimum range of arguments would be one."
   ]
  },
  {
   "cell_type": "markdown",
   "metadata": {},
   "source": [
    "66. maximun no of arguments should be three."
   ]
  },
  {
   "cell_type": "markdown",
   "metadata": {},
   "source": [
    "68. range(5) "
   ]
  },
  {
   "cell_type": "markdown",
   "metadata": {},
   "source": [
    "69. \n",
    "a. range(1,6)\n",
    "b. range(5,0,-1\n",
    "c. range(5,31,5)\n",
    "d. range(30,4,-5)\n",
    "e. range(-3,4,1)\n",
    "f. range(3,-4,-1)\n",
    "g. range(-50,0,10)\n"
   ]
  },
  {
   "cell_type": "markdown",
   "metadata": {},
   "source": [
    "70. 2 4 6 8 10 12 14 16 18"
   ]
  },
  {
   "cell_type": "markdown",
   "metadata": {},
   "source": [
    "71. 2,3,4,5,6"
   ]
  },
  {
   "cell_type": "markdown",
   "metadata": {},
   "source": [
    "72. no"
   ]
  },
  {
   "cell_type": "markdown",
   "metadata": {},
   "source": [
    "73. print * 99 times"
   ]
  },
  {
   "cell_type": "markdown",
   "metadata": {},
   "source": [
    "74. It will print *  16 times"
   ]
  },
  {
   "cell_type": "markdown",
   "metadata": {},
   "source": [
    "75. It will print 50  times"
   ]
  },
  {
   "cell_type": "markdown",
   "metadata": {},
   "source": [
    "76. It will not print anything"
   ]
  },
  {
   "cell_type": "markdown",
   "metadata": {},
   "source": [
    "77. 200 times It will print *"
   ]
  },
  {
   "cell_type": "markdown",
   "metadata": {},
   "source": [
    "78. It will print * 20 times"
   ]
  },
  {
   "cell_type": "code",
   "execution_count": 1,
   "metadata": {},
   "outputs": [
    {
     "name": "stdout",
     "output_type": "stream",
     "text": [
      "********************\n"
     ]
    }
   ],
   "source": [
    "i=0\n",
    "while i<20:\n",
    "  print('*', end='')\n",
    "  i=i+1\n",
    "print()  \n"
   ]
  },
  {
   "cell_type": "markdown",
   "metadata": {},
   "source": [
    "80. It will give indentation error."
   ]
  },
  {
   "cell_type": "code",
   "execution_count": 2,
   "metadata": {},
   "outputs": [
    {
     "name": "stdout",
     "output_type": "stream",
     "text": [
      "please enter num:1.1\n",
      "please enter num:2.3\n",
      "please enter num:4.5\n",
      "please enter num:6.2\n",
      "please enter num:1.3\n",
      "please enter num:1.5\n",
      "please enter num:6.9\n",
      "please enter num:9.9\n",
      "please enter num:9\n",
      "please enter num:2.3\n",
      "please enter num:4.5\n",
      "please enter num:5.7\n",
      "please enter num:7.3\n",
      "please enter num:12.7\n",
      "please enter num:45.5\n",
      "please enter num:23.2\n",
      "please enter num:67.3\n",
      "please enter num:23.9\n",
      "please enter num:111.8\n",
      "please enter num:12.8\n",
      "Sum: 359.7\n",
      "Max: 111.8\n",
      "Min: 1.1\n",
      "Avg: 17.985\n"
     ]
    }
   ],
   "source": [
    "numbers = []\n",
    "for i in range(20):\n",
    "  num = float(input(\"please enter num:\"))\n",
    "  numbers.append(num)\n",
    "\n",
    "print('Sum:', sum(numbers)) \n",
    "print('Max:', max(numbers))\n",
    "print('Min:', min(numbers)) \n",
    "print('Avg:', sum(numbers)/len(numbers)) "
   ]
  },
  {
   "cell_type": "markdown",
   "metadata": {},
   "source": [
    "92. its valid. it will execute the second function"
   ]
  },
  {
   "cell_type": "markdown",
   "metadata": {},
   "source": [
    "93. Its valid program"
   ]
  },
  {
   "cell_type": "markdown",
   "metadata": {},
   "source": [
    "94. o/p= 7"
   ]
  },
  {
   "cell_type": "markdown",
   "metadata": {},
   "source": [
    "95. Its a valid program."
   ]
  },
  {
   "cell_type": "markdown",
   "metadata": {},
   "source": [
    "96. Its a invalid program."
   ]
  },
  {
   "cell_type": "markdown",
   "metadata": {},
   "source": [
    "97. valid program."
   ]
  },
  {
   "cell_type": "markdown",
   "metadata": {},
   "source": [
    "98. It will print 10."
   ]
  },
  {
   "cell_type": "markdown",
   "metadata": {},
   "source": [
    "99. It will print 200."
   ]
  },
  {
   "cell_type": "markdown",
   "metadata": {},
   "source": [
    "157. List are mutable while tuples are immutable. We can define the list inside the square brackets while we can defines the tuples inside the small brackets."
   ]
  },
  {
   "cell_type": "markdown",
   "metadata": {},
   "source": [
    "158. There is no difference on accessing the values in both tuples and list. but we can reassign the value in tuples because \n",
    "tuplese are immutable."
   ]
  },
  {
   "cell_type": "markdown",
   "metadata": {},
   "source": [
    "159. Tuples are immutable."
   ]
  },
  {
   "cell_type": "markdown",
   "metadata": {},
   "source": [
    "160. Elements of tuples are ordered."
   ]
  },
  {
   "cell_type": "code",
   "execution_count": 6,
   "metadata": {},
   "outputs": [
    {
     "name": "stdout",
     "output_type": "stream",
     "text": [
      "7 10 -3 18 6 10\n"
     ]
    }
   ],
   "source": [
    "tu = (7,10,-3,18,6,10)\n",
    "(a1,a2,a3,a4,a5,a6) = tu\n",
    "print(a1, a2, a3, a4, a5, a6)"
   ]
  },
  {
   "cell_type": "code",
   "execution_count": 21,
   "metadata": {},
   "outputs": [
    {
     "name": "stdout",
     "output_type": "stream",
     "text": [
      "True\n"
     ]
    }
   ],
   "source": [
    "def zero_sum(*argv):\n",
    "    if(sum(argv) == 0):\n",
    "        return True\n",
    "    else:\n",
    "        return False\n",
    "print(zero_sum(4,10,-14))    "
   ]
  },
  {
   "cell_type": "markdown",
   "metadata": {},
   "source": [
    "164. Dictuonary consider as associative container because it stores the elements as key value pairs."
   ]
  },
  {
   "cell_type": "code",
   "execution_count": 22,
   "metadata": {},
   "outputs": [
    {
     "name": "stdout",
     "output_type": "stream",
     "text": [
      "{}\n"
     ]
    }
   ],
   "source": [
    "d = {}\n",
    "print(d)"
   ]
  },
  {
   "cell_type": "code",
   "execution_count": 25,
   "metadata": {},
   "outputs": [
    {
     "name": "stdout",
     "output_type": "stream",
     "text": [
      "SAM\n"
     ]
    }
   ],
   "source": [
    "d = {'fred': 'SAM'}\n",
    "print(d['fred'])\n"
   ]
  },
  {
   "cell_type": "markdown",
   "metadata": {},
   "source": [
    "167. If we acessing through the key which is not present in the dictionary then It will give the key error."
   ]
  },
  {
   "cell_type": "markdown",
   "metadata": {},
   "source": [
    "168. It will give an error because key is not present in the dictionary."
   ]
  },
  {
   "cell_type": "markdown",
   "metadata": {},
   "source": [
    "169. Dictionaries are immutable."
   ]
  },
  {
   "cell_type": "code",
   "execution_count": 26,
   "metadata": {},
   "outputs": [
    {
     "name": "stdout",
     "output_type": "stream",
     "text": [
      "{3: 0, 5: 1, 10: 1, 8: 2, 15: 4}\n",
      "3\n",
      "5\n",
      "10\n",
      "8\n",
      "15\n",
      "0\n",
      "1\n",
      "1\n",
      "2\n",
      "4\n",
      "3\n",
      "5\n",
      "10\n",
      "8\n",
      "15\n"
     ]
    }
   ],
   "source": [
    "d = {3:0, 5:1, 10:1, 8:2, 15:4}\n",
    "print(d)\n",
    "for x in d.keys():\n",
    "    print(x)\n",
    "for x in d.values():\n",
    "    print(x)\n",
    "for x in d:\n",
    "    print(x)"
   ]
  },
  {
   "cell_type": "markdown",
   "metadata": {},
   "source": [
    "172. Elements are dictionaries are unordered."
   ]
  },
  {
   "cell_type": "markdown",
   "metadata": {},
   "source": [
    "175. Sets are mutable."
   ]
  },
  {
   "cell_type": "markdown",
   "metadata": {},
   "source": [
    "A = {20, 19, 2, 10, 7}\n",
    "B = {4, 10, 5, 6, 9, 7}\n",
    "C = {10, 19}\n",
    "(l) {x + 2 for x in range(10)}   {2, 3, 4, 5,6,7,8,9,10,11}\n",
    "(m) {x - 2 for x in A}           {18, 17, 0, 8, 5}\n",
    "(n) {x - 2 for x in A if x < 10} {0,5}\n",
    "\n",
    "\n"
   ]
  },
  {
   "cell_type": "markdown",
   "metadata": {},
   "source": []
  },
  {
   "cell_type": "code",
   "execution_count": 4,
   "metadata": {},
   "outputs": [],
   "source": [
    "130. Python String are immutable."
   ]
  },
  {
   "cell_type": "markdown",
   "metadata": {},
   "source": [
    "132. Garbage means regrading the programming to allocate or deallocate the memory."
   ]
  },
  {
   "cell_type": "markdown",
   "metadata": {},
   "source": [
    "133. python automaticaly allocate or deallocate the memory. User does not have preallocate or deallocate the memory like\n",
    "other programming languages. \n"
   ]
  },
  {
   "cell_type": "markdown",
   "metadata": {},
   "source": [
    "135. yes,List can host the values of any data types."
   ]
  },
  {
   "cell_type": "markdown",
   "metadata": {},
   "source": [
    "136. It will access the values counted throught last index."
   ]
  },
  {
   "cell_type": "markdown",
   "metadata": {},
   "source": [
    "140. len function"
   ]
  },
  {
   "cell_type": "code",
   "execution_count": 8,
   "metadata": {},
   "outputs": [],
   "source": [
    " a = []"
   ]
  },
  {
   "cell_type": "code",
   "execution_count": 9,
   "metadata": {},
   "outputs": [
    {
     "data": {
      "text/plain": [
       "True"
      ]
     },
     "execution_count": 9,
     "metadata": {},
     "output_type": "execute_result"
    }
   ],
   "source": [
    "a = [1,2,3]\n",
    "1 in a"
   ]
  },
  {
   "cell_type": "code",
   "execution_count": 12,
   "metadata": {},
   "outputs": [
    {
     "name": "stdout",
     "output_type": "stream",
     "text": [
      "['n', 'i', 'h', 'c', 'a', 's']\n"
     ]
    }
   ],
   "source": [
    "a= \"sachin\"\n",
    "print(list(reversed(a)))"
   ]
  },
  {
   "cell_type": "code",
   "execution_count": null,
   "metadata": {},
   "outputs": [],
   "source": []
  }
 ],
 "metadata": {
  "kernelspec": {
   "display_name": "Python 3",
   "language": "python",
   "name": "python3"
  },
  "language_info": {
   "codemirror_mode": {
    "name": "ipython",
    "version": 3
   },
   "file_extension": ".py",
   "mimetype": "text/x-python",
   "name": "python",
   "nbconvert_exporter": "python",
   "pygments_lexer": "ipython3",
   "version": "3.7.3"
  }
 },
 "nbformat": 4,
 "nbformat_minor": 2
}
