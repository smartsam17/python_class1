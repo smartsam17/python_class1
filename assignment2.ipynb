{
 "cells": [
  {
   "cell_type": "code",
   "execution_count": 3,
   "metadata": {},
   "outputs": [
    {
     "name": "stdout",
     "output_type": "stream",
     "text": [
      "true, Character is Vowel\n"
     ]
    }
   ],
   "source": [
    "# Program to check the Vowel\n",
    "\n",
    "def checkVowel (str):  \n",
    "    vowels = ['a', 'e', 'i', 'o', 'u']\n",
    "    if len(str) == 1:\n",
    "        if str.lower() in vowels:\n",
    "            print('true, Character is Vowel')\n",
    "        else:\n",
    "            print('false, Character is consonent')\n",
    "    else:\n",
    "        print('Please pass correct character')\n",
    "    \n",
    "#calling the function   \n",
    "checkVowel('a')   "
   ]
  },
  {
   "cell_type": "code",
   "execution_count": 4,
   "metadata": {},
   "outputs": [
    {
     "name": "stdout",
     "output_type": "stream",
     "text": [
      "[12, 13]\n"
     ]
    }
   ],
   "source": [
    "filterList = [12,4,13]\n",
    "ageFilterList = []\n",
    "def customFilter(myfunc,filterList):\n",
    "  for listItem in filterList:\n",
    "    if myfunc(listItem):\n",
    "      ageFilterList.append(listItem)\n",
    "  return ageFilterList     \n",
    "\n",
    "def myfunc(listItem):\n",
    "   if listItem > 10:\n",
    "     return True\n",
    "\n",
    "y = customFilter(myfunc,filterList)\n",
    "print (y)"
   ]
  },
  {
   "cell_type": "code",
   "execution_count": 6,
   "metadata": {},
   "outputs": [
    {
     "name": "stdout",
     "output_type": "stream",
     "text": [
      "[6, 5, 6, 7]\n"
     ]
    }
   ],
   "source": [
    "# Length of words in a list\n",
    "def longestWords (name):  \n",
    "    stringsLen = []\n",
    "    for i in name:\n",
    "        if type(i) == str:\n",
    "            stringsLen.append(len(i))\n",
    "    print(stringsLen)   \n",
    "  \n",
    "#calling the function   \n",
    "longestWords(['Sachin','Rohit','Anjali', 'Ajitesh'])   "
   ]
  },
  {
   "cell_type": "code",
   "execution_count": 8,
   "metadata": {},
   "outputs": [
    {
     "name": "stdout",
     "output_type": "stream",
     "text": [
      "7\n"
     ]
    }
   ],
   "source": [
    "# Program to calculate longest word in a List\n",
    "\n",
    "def longestWords (name):  \n",
    "    stringsLen = []\n",
    "    for i in name:\n",
    "        if type(i) == str:\n",
    "            stringsLen.append(len(i))\n",
    "    print(max(stringsLen))     \n",
    "  \n",
    "#calling the function   \n",
    "longestWords(['Sachin','Rohit','Anjali', 'Ajitesh'])   "
   ]
  },
  {
   "cell_type": "code",
   "execution_count": 9,
   "metadata": {},
   "outputs": [
    {
     "name": "stdout",
     "output_type": "stream",
     "text": [
      "1\n",
      "2\n",
      "3\n",
      "3\n",
      "6\n",
      "4\n",
      "10\n",
      "31\n"
     ]
    }
   ],
   "source": [
    "from functools import reduce # only in Python 3\n",
    "def do_sum(x1, x2): \n",
    "  print (x1)\n",
    "  print (x2)\n",
    "  return x1 + x2\n",
    "print(reduce(do_sum, [1, 2, 3, 4]))\n",
    "\n",
    "\n",
    "itemList = [1,8,10,12]\n",
    "def reduce_custom(myfunc, itemList):\n",
    "  return myfunc(itemList)\n",
    "\n",
    "def myfunc(itemList):\n",
    "  sumItems = 0\n",
    "  for item in itemList:\n",
    "    sumItems += item \n",
    "  return sumItems    \n",
    "\n",
    "sumOfNumbers = reduce_custom(myfunc, itemList)\n",
    "print (sumOfNumbers)"
   ]
  },
  {
   "cell_type": "code",
   "execution_count": 10,
   "metadata": {},
   "outputs": [
    {
     "name": "stdout",
     "output_type": "stream",
     "text": [
      "ACADGILD\n",
      "['A', 'C', 'A', 'D', 'G', 'I', 'L', 'D']\n",
      "['x', 'xx', 'xxx', 'xxxx', 'y', 'yy', 'yyy', 'yyyy', 'z', 'zz', 'zzz', 'zzzz']\n",
      "['x', 'y', 'z', 'xx', 'yy', 'zz', 'xxx', 'yyy', 'zzz', 'xxxx', 'yyyy', 'zzzz']\n",
      "[[2], [3], [4], [3], [4], [5], [4], [5], [6]]\n",
      "[[2, 3, 4, 5], [3, 4, 5, 6], [4, 5, 6, 7], [5, 6, 7, 8]]\n",
      "[(1, 1), (2, 1), (3, 1), (1, 2), (2, 2), (3, 2), (1, 3), (2, 3), (3, 3)]\n"
     ]
    }
   ],
   "source": [
    "# List Comprehension program1\n",
    "title = \"ACADGILD\"\n",
    "print(title)\n",
    "arrTitle = [i for i in title]\n",
    "print(arrTitle)\n",
    "\n",
    "# List Comprehension program2\n",
    "# ['x', 'xx', 'xxx', 'xxxx', 'y', 'yy', 'yyy', 'yyyy', 'z', 'zz', 'zzz', 'zzzz'] \n",
    "title = 'xyz'\n",
    "titleList =[]\n",
    "for i in title:\n",
    "    titleList.extend([i*k for k in range(1,5)])\n",
    "print(titleList) \n",
    "\n",
    "# List Comprehension program3\n",
    "#['x', 'y', 'z', 'xx', 'yy', 'zz', 'xx', 'yy', 'zz', 'xxxx', 'yyyy', 'zzzz'] \n",
    "title = 'xyz'\n",
    "titleList =[]\n",
    "for i in range(1,5):\n",
    "    titleList.extend([i*k for k in title])\n",
    "print(titleList) \n",
    "\n",
    "# List Comprehension program4\n",
    "#[[2], [3], [4], [3], [4], [5], [4], [5], [6]] \n",
    "title = '234'\n",
    "titleList =[]\n",
    "for i in range(3):\n",
    "  titleList.extend([[i+int(k)]for k in title])\n",
    "print(titleList)  \n",
    "\n",
    "# List Comprehension program5\n",
    "#[[2, 3, 4, 5], [3, 4, 5, 6], [4, 5, 6, 7], [5, 6, 7, 8]] \n",
    "title = '2345'\n",
    "titleList =[]\n",
    "for i in range(4):\n",
    "  titleList.append([i+int(k) for k in title])\n",
    "print(titleList) \n",
    "\n",
    "# List Comprehension program5\n",
    "#[(1, 1), (2, 1), (3, 1), (1, 2), (2, 2), (3, 2), (1, 3), (2, 3), (3, 3)] \n",
    "titleList =[]\n",
    "for i in range(1,4):\n",
    "  titleList.extend([(j,i)for j in range(1,4)])\n",
    "print(titleList)  \n",
    "\n",
    "\n",
    "\n",
    "\n",
    "\n",
    "\n",
    "\n",
    "\n",
    "    \n",
    "    \n",
    "      \n"
   ]
  },
  {
   "cell_type": "code",
   "execution_count": 11,
   "metadata": {},
   "outputs": [
    {
     "name": "stdout",
     "output_type": "stream",
     "text": [
      "5.477225575051661\n"
     ]
    }
   ],
   "source": [
    "class Base(object): \n",
    "      \n",
    "    # Constructor \n",
    "    def __init__(self, s,a,b,c): \n",
    "        self.s = s\n",
    "        self.a = a\n",
    "        self.b = b\n",
    "        self.c = c \n",
    "  \n",
    "     \n",
    "    def getS(self): \n",
    "        return self.s \n",
    "  \n",
    "     \n",
    "    def getA(self): \n",
    "        return self.a \n",
    "\n",
    "    def getB(self): \n",
    "        return self.b \n",
    "\n",
    "    def getC(self): \n",
    "        return self.c \n",
    "\n",
    "    \n",
    "# Inherited or Sub class (Note Person in bracket) \n",
    "class Derived(Base): \n",
    "  \n",
    "    # Here we return true \n",
    "    def getTriangeArea(self): \n",
    "        s = super().getS()\n",
    "        a = super().getA()\n",
    "        b = super().getB()\n",
    "        c = super().getC()\n",
    "        print((s*(s-a)*(s-b)*(s-c)) ** 0.5 )\n",
    "  \n",
    "  \n",
    "  \n",
    "d=Derived(5,2,3,4)\n",
    "d.getTriangeArea()\n",
    " \n",
    "  \n"
   ]
  },
  {
   "cell_type": "code",
   "execution_count": null,
   "metadata": {},
   "outputs": [],
   "source": []
  }
 ],
 "metadata": {
  "kernelspec": {
   "display_name": "Python 3",
   "language": "python",
   "name": "python3"
  },
  "language_info": {
   "codemirror_mode": {
    "name": "ipython",
    "version": 3
   },
   "file_extension": ".py",
   "mimetype": "text/x-python",
   "name": "python",
   "nbconvert_exporter": "python",
   "pygments_lexer": "ipython3",
   "version": "3.7.3"
  }
 },
 "nbformat": 4,
 "nbformat_minor": 2
}
