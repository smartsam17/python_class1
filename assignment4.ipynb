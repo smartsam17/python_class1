{
 "cells": [
  {
   "cell_type": "code",
   "execution_count": 1,
   "metadata": {},
   "outputs": [],
   "source": [
    "import pandas as pd\n",
    "import numpy as np\n"
   ]
  },
  {
   "cell_type": "code",
   "execution_count": 2,
   "metadata": {},
   "outputs": [
    {
     "name": "stdout",
     "output_type": "stream",
     "text": [
      "             0\n",
      "2     5.000000\n",
      "3     4.666667\n",
      "4     5.666667\n",
      "5     6.666667\n",
      "6     9.666667\n",
      "7    28.666667\n",
      "8    49.333333\n",
      "9    72.666667\n",
      "10   84.000000\n",
      "11   93.333333\n",
      "12  116.333333\n"
     ]
    }
   ],
   "source": [
    "items = [3, 5, 7, 2, 8, 10, 11, 65, 72, 81, 99, 100, 150]\n",
    "k=3\n",
    "df = pd.DataFrame(items)\n",
    "df1 = df.rolling(window=k).mean()\n",
    "print(df1[k-1:len(items)])"
   ]
  },
  {
   "cell_type": "code",
   "execution_count": 4,
   "metadata": {},
   "outputs": [
    {
     "name": "stdout",
     "output_type": "stream",
     "text": [
      "   X  y\n",
      "0  7  0\n",
      "1  2  0\n",
      "2  0  0\n",
      "3  3  1\n",
      "4  4  2\n",
      "5  2  3\n",
      "6  5  4\n",
      "7  0  0\n",
      "8  3  1\n",
      "9  4  2\n"
     ]
    }
   ],
   "source": [
    "df = pd.DataFrame({'X': [7, 2, 0, 3, 4, 2, 5, 0, 3, 4]}) \n",
    "def cusFunc(num):\n",
    "\n",
    "  list1 = df['X']\n",
    "  index = 0\n",
    "  indexes =[]\n",
    "  for i in list1:\n",
    "    index0 = 0\n",
    "    #print(i)\n",
    "    if index > 0:\n",
    "      for j in range(index):\n",
    "        if list1[j]==0:\n",
    "          index0=j\n",
    "    \n",
    "    index = index+1\n",
    "    if i==0 or index0 == 0:\n",
    "      mainIndex = 0\n",
    "    else:\n",
    "      mainIndex =index-index0-1\n",
    "    indexes.append(mainIndex)\n",
    "  #print(indexes)\n",
    "  return indexes\n",
    " \n",
    "\n",
    "\n",
    "df['y'] = df.apply(cusFunc)\n",
    "print(df)"
   ]
  },
  {
   "cell_type": "code",
   "execution_count": null,
   "metadata": {},
   "outputs": [],
   "source": []
  }
 ],
 "metadata": {
  "kernelspec": {
   "display_name": "Python 3",
   "language": "python",
   "name": "python3"
  },
  "language_info": {
   "codemirror_mode": {
    "name": "ipython",
    "version": 3
   },
   "file_extension": ".py",
   "mimetype": "text/x-python",
   "name": "python",
   "nbconvert_exporter": "python",
   "pygments_lexer": "ipython3",
   "version": "3.7.3"
  }
 },
 "nbformat": 4,
 "nbformat_minor": 2
}
